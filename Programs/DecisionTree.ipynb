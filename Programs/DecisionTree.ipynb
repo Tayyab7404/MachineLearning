{
 "cells": [
  {
   "cell_type": "markdown",
   "id": "659bd9a6-d1b6-4229-be47-7bc17217104b",
   "metadata": {
    "id": "659bd9a6-d1b6-4229-be47-7bc17217104b"
   },
   "source": [
    "# **Decision Tree**"
   ]
  },
  {
   "cell_type": "code",
   "execution_count": 1,
   "id": "0c64bcc7-46cb-485a-9ec6-4ef09e9b84d9",
   "metadata": {
    "executionInfo": {
     "elapsed": 392,
     "status": "ok",
     "timestamp": 1711184173300,
     "user": {
      "displayName": "Tayyab Tavvagunta",
      "userId": "05736559268130400023"
     },
     "user_tz": -330
    },
    "id": "0c64bcc7-46cb-485a-9ec6-4ef09e9b84d9"
   },
   "outputs": [],
   "source": [
    "import numpy as np\n",
    "import pandas as pd"
   ]
  },
  {
   "cell_type": "code",
   "execution_count": 2,
   "id": "d911ff23-3e7a-427a-8a7a-8e2177e3d9b2",
   "metadata": {
    "colab": {
     "base_uri": "https://localhost:8080/",
     "height": 488
    },
    "executionInfo": {
     "elapsed": 408,
     "status": "ok",
     "timestamp": 1711184176872,
     "user": {
      "displayName": "Tayyab Tavvagunta",
      "userId": "05736559268130400023"
     },
     "user_tz": -330
    },
    "id": "d911ff23-3e7a-427a-8a7a-8e2177e3d9b2",
    "outputId": "67631bc1-8422-47f3-bed2-66819b391f92"
   },
   "outputs": [
    {
     "data": {
      "text/html": [
       "<div>\n",
       "<style scoped>\n",
       "    .dataframe tbody tr th:only-of-type {\n",
       "        vertical-align: middle;\n",
       "    }\n",
       "\n",
       "    .dataframe tbody tr th {\n",
       "        vertical-align: top;\n",
       "    }\n",
       "\n",
       "    .dataframe thead th {\n",
       "        text-align: right;\n",
       "    }\n",
       "</style>\n",
       "<table border=\"1\" class=\"dataframe\">\n",
       "  <thead>\n",
       "    <tr style=\"text-align: right;\">\n",
       "      <th></th>\n",
       "      <th>outlook</th>\n",
       "      <th>temperature</th>\n",
       "      <th>humidity</th>\n",
       "      <th>wind</th>\n",
       "      <th>play</th>\n",
       "    </tr>\n",
       "  </thead>\n",
       "  <tbody>\n",
       "    <tr>\n",
       "      <th>0</th>\n",
       "      <td>Sunny</td>\n",
       "      <td>Hot</td>\n",
       "      <td>High</td>\n",
       "      <td>Weak</td>\n",
       "      <td>No</td>\n",
       "    </tr>\n",
       "    <tr>\n",
       "      <th>1</th>\n",
       "      <td>Sunny</td>\n",
       "      <td>Hot</td>\n",
       "      <td>High</td>\n",
       "      <td>Strong</td>\n",
       "      <td>No</td>\n",
       "    </tr>\n",
       "    <tr>\n",
       "      <th>2</th>\n",
       "      <td>Overcast</td>\n",
       "      <td>Hot</td>\n",
       "      <td>High</td>\n",
       "      <td>Weak</td>\n",
       "      <td>Yes</td>\n",
       "    </tr>\n",
       "    <tr>\n",
       "      <th>3</th>\n",
       "      <td>Rain</td>\n",
       "      <td>Mild</td>\n",
       "      <td>High</td>\n",
       "      <td>Weak</td>\n",
       "      <td>Yes</td>\n",
       "    </tr>\n",
       "    <tr>\n",
       "      <th>4</th>\n",
       "      <td>Rain</td>\n",
       "      <td>Cool</td>\n",
       "      <td>Normal</td>\n",
       "      <td>Weak</td>\n",
       "      <td>Yes</td>\n",
       "    </tr>\n",
       "    <tr>\n",
       "      <th>5</th>\n",
       "      <td>Rain</td>\n",
       "      <td>Cool</td>\n",
       "      <td>Normal</td>\n",
       "      <td>Strong</td>\n",
       "      <td>No</td>\n",
       "    </tr>\n",
       "    <tr>\n",
       "      <th>6</th>\n",
       "      <td>Overcast</td>\n",
       "      <td>Cool</td>\n",
       "      <td>Normal</td>\n",
       "      <td>Strong</td>\n",
       "      <td>Yes</td>\n",
       "    </tr>\n",
       "    <tr>\n",
       "      <th>7</th>\n",
       "      <td>Sunny</td>\n",
       "      <td>Mild</td>\n",
       "      <td>High</td>\n",
       "      <td>Weak</td>\n",
       "      <td>No</td>\n",
       "    </tr>\n",
       "    <tr>\n",
       "      <th>8</th>\n",
       "      <td>Sunny</td>\n",
       "      <td>Cool</td>\n",
       "      <td>Normal</td>\n",
       "      <td>Weak</td>\n",
       "      <td>Yes</td>\n",
       "    </tr>\n",
       "    <tr>\n",
       "      <th>9</th>\n",
       "      <td>Rain</td>\n",
       "      <td>Mild</td>\n",
       "      <td>Normal</td>\n",
       "      <td>Weak</td>\n",
       "      <td>Yes</td>\n",
       "    </tr>\n",
       "    <tr>\n",
       "      <th>10</th>\n",
       "      <td>Sunny</td>\n",
       "      <td>Mild</td>\n",
       "      <td>Normal</td>\n",
       "      <td>Strong</td>\n",
       "      <td>Yes</td>\n",
       "    </tr>\n",
       "    <tr>\n",
       "      <th>11</th>\n",
       "      <td>Overcast</td>\n",
       "      <td>Mild</td>\n",
       "      <td>High</td>\n",
       "      <td>Strong</td>\n",
       "      <td>Yes</td>\n",
       "    </tr>\n",
       "    <tr>\n",
       "      <th>12</th>\n",
       "      <td>Overcast</td>\n",
       "      <td>Hot</td>\n",
       "      <td>Normal</td>\n",
       "      <td>Weak</td>\n",
       "      <td>Yes</td>\n",
       "    </tr>\n",
       "    <tr>\n",
       "      <th>13</th>\n",
       "      <td>Rain</td>\n",
       "      <td>Mild</td>\n",
       "      <td>High</td>\n",
       "      <td>Strong</td>\n",
       "      <td>No</td>\n",
       "    </tr>\n",
       "  </tbody>\n",
       "</table>\n",
       "</div>"
      ],
      "text/plain": [
       "     outlook temperature humidity    wind play\n",
       "0      Sunny         Hot     High    Weak   No\n",
       "1      Sunny         Hot     High  Strong   No\n",
       "2   Overcast         Hot     High    Weak  Yes\n",
       "3       Rain        Mild     High    Weak  Yes\n",
       "4       Rain        Cool   Normal    Weak  Yes\n",
       "5       Rain        Cool   Normal  Strong   No\n",
       "6   Overcast        Cool   Normal  Strong  Yes\n",
       "7      Sunny        Mild     High    Weak   No\n",
       "8      Sunny        Cool   Normal    Weak  Yes\n",
       "9       Rain        Mild   Normal    Weak  Yes\n",
       "10     Sunny        Mild   Normal  Strong  Yes\n",
       "11  Overcast        Mild     High  Strong  Yes\n",
       "12  Overcast         Hot   Normal    Weak  Yes\n",
       "13      Rain        Mild     High  Strong   No"
      ]
     },
     "metadata": {},
     "output_type": "display_data"
    }
   ],
   "source": [
    "data = pd.read_csv(\"PlayTennis.csv\")\n",
    "\n",
    "data.drop(\"day\", axis=1, inplace=True)\n",
    "\n",
    "display(data)"
   ]
  },
  {
   "cell_type": "code",
   "execution_count": 3,
   "id": "168c1019-5322-431c-b6cc-8fa0aed9596a",
   "metadata": {
    "executionInfo": {
     "elapsed": 609,
     "status": "ok",
     "timestamp": 1711184368903,
     "user": {
      "displayName": "Tayyab Tavvagunta",
      "userId": "05736559268130400023"
     },
     "user_tz": -330
    },
    "id": "168c1019-5322-431c-b6cc-8fa0aed9596a"
   },
   "outputs": [],
   "source": [
    "def Entropy(Sample):\n",
    "    p = Sample[Sample['play'] == \"Yes\"].shape[0]\n",
    "    n = Sample[Sample['play'] == \"No\"].shape[0]\n",
    "    s = Sample.shape[0]\n",
    "\n",
    "    if p == 0 or n == 0:\n",
    "        return 0\n",
    "        \n",
    "    return -(p/s) * np.log2(p/s) - (n/s) * np.log2(n/s)\n",
    "\n",
    "def Gain(Sample, Attribute):\n",
    "    Gain = Entropy(Sample)\n",
    "    for value in Sample[Attribute].unique():\n",
    "        Gain -= (Sample[Sample[Attribute] == value].shape[0] / Sample.shape[0]) *\\\n",
    "                 Entropy(Sample[Sample[Attribute] == value])\n",
    "\n",
    "    return Gain\n",
    "\n",
    "def ID3(data, target, attributes):\n",
    "    tree = {}\n",
    "    targetCounts = data[target].value_counts()\n",
    "\n",
    "    if data[target].eq(\"Yes\").all():\n",
    "        return \"Yes\"\n",
    "    elif data[target].eq(\"No\").all():\n",
    "        return \"No\"\n",
    "    elif len(attributes) == 0:\n",
    "        return \"Yes\" if targetCounts[\"Yes\"] > targetCounts[\"No\"] else \"No\"\n",
    "    else:\n",
    "        Gains = [Gain(data, a) for a in attributes]\n",
    "        best = attributes[Gains.index(max(Gains))]\n",
    "        tree = {best: {}}\n",
    "        attributes.remove(best)\n",
    "        for v in data[best].unique():\n",
    "            xv = data.loc[data[best] == v]\n",
    "            if len(xv) == 0:\n",
    "                tree[best][v] = \"Yes\" if targetCounts[\"Yes\"] > targetCounts[\"No\"] else \"No\"\n",
    "            tree[best][v] = ID3(xv, target, attributes)\n",
    "\n",
    "    return tree\n",
    "\n",
    "def visualize(tree, indent=2):\n",
    "    if type(tree) == dict:\n",
    "        for k, v in tree.items():\n",
    "            print(\" \" * indent + f\"{k}:\")\n",
    "            visualize(v, indent+2)\n",
    "    else:\n",
    "        print(\" \" * indent + repr(tree))"
   ]
  },
  {
   "cell_type": "code",
   "execution_count": 4,
   "id": "9c97920f-fabb-4005-a9a2-ac5928daa6b0",
   "metadata": {
    "colab": {
     "base_uri": "https://localhost:8080/"
    },
    "executionInfo": {
     "elapsed": 1185,
     "status": "ok",
     "timestamp": 1711184586654,
     "user": {
      "displayName": "Tayyab Tavvagunta",
      "userId": "05736559268130400023"
     },
     "user_tz": -330
    },
    "id": "9c97920f-fabb-4005-a9a2-ac5928daa6b0",
    "outputId": "fccf1700-7d63-40f6-fb88-f755816216fe"
   },
   "outputs": [
    {
     "name": "stdout",
     "output_type": "stream",
     "text": [
      "Tree:\n",
      "{'outlook': {'Sunny': {'humidity': {'High': 'No', 'Normal': 'Yes'}}, 'Overcast': 'Yes', 'Rain': {'wind': {'Weak': 'Yes', 'Strong': 'No'}}}}\n",
      "\n",
      "Visualization:\n",
      "  outlook:\n",
      "    Sunny:\n",
      "      humidity:\n",
      "        High:\n",
      "          'No'\n",
      "        Normal:\n",
      "          'Yes'\n",
      "    Overcast:\n",
      "      'Yes'\n",
      "    Rain:\n",
      "      wind:\n",
      "        Weak:\n",
      "          'Yes'\n",
      "        Strong:\n",
      "          'No'\n"
     ]
    }
   ],
   "source": [
    "target = \"play\"\n",
    "attributes = list(data.columns[:-1])\n",
    "\n",
    "tree = ID3(data, target, attributes)\n",
    "print(f\"Tree:\\n{tree}\")\n",
    "\n",
    "print(f\"\\nVisualization:\")\n",
    "visualize(tree)"
   ]
  }
 ],
 "metadata": {
  "colab": {
   "provenance": []
  },
  "kernelspec": {
   "display_name": "Python 3 (ipykernel)",
   "language": "python",
   "name": "python3"
  },
  "language_info": {
   "codemirror_mode": {
    "name": "ipython",
    "version": 3
   },
   "file_extension": ".py",
   "mimetype": "text/x-python",
   "name": "python",
   "nbconvert_exporter": "python",
   "pygments_lexer": "ipython3",
   "version": "3.12.2"
  }
 },
 "nbformat": 4,
 "nbformat_minor": 5
}
