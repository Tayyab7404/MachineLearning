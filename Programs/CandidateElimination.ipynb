{
 "cells": [
  {
   "cell_type": "markdown",
   "id": "e025b0f3-d339-4f3f-b6f3-44e6a4153889",
   "metadata": {},
   "source": [
    "# **Candidate Elimination**"
   ]
  },
  {
   "cell_type": "code",
   "execution_count": 2,
   "id": "22bf7f9b-2ef7-4fd1-8c1d-56943961b289",
   "metadata": {},
   "outputs": [],
   "source": [
    "import numpy as np\n",
    "import pandas as pd"
   ]
  },
  {
   "cell_type": "code",
   "execution_count": 3,
   "id": "3014fc43-5447-42af-8fcd-7597456b3028",
   "metadata": {},
   "outputs": [
    {
     "data": {
      "text/html": [
       "<div>\n",
       "<style scoped>\n",
       "    .dataframe tbody tr th:only-of-type {\n",
       "        vertical-align: middle;\n",
       "    }\n",
       "\n",
       "    .dataframe tbody tr th {\n",
       "        vertical-align: top;\n",
       "    }\n",
       "\n",
       "    .dataframe thead th {\n",
       "        text-align: right;\n",
       "    }\n",
       "</style>\n",
       "<table border=\"1\" class=\"dataframe\">\n",
       "  <thead>\n",
       "    <tr style=\"text-align: right;\">\n",
       "      <th></th>\n",
       "      <th>Sky</th>\n",
       "      <th>AirTemp</th>\n",
       "      <th>Humidity</th>\n",
       "      <th>Wind</th>\n",
       "      <th>Water</th>\n",
       "      <th>Forecast</th>\n",
       "      <th>EnjoySport</th>\n",
       "    </tr>\n",
       "  </thead>\n",
       "  <tbody>\n",
       "    <tr>\n",
       "      <th>0</th>\n",
       "      <td>Sunny</td>\n",
       "      <td>Warm</td>\n",
       "      <td>Normal</td>\n",
       "      <td>Strong</td>\n",
       "      <td>Warm</td>\n",
       "      <td>Same</td>\n",
       "      <td>Yes</td>\n",
       "    </tr>\n",
       "    <tr>\n",
       "      <th>1</th>\n",
       "      <td>Sunny</td>\n",
       "      <td>Warm</td>\n",
       "      <td>High</td>\n",
       "      <td>Strong</td>\n",
       "      <td>Warm</td>\n",
       "      <td>Same</td>\n",
       "      <td>Yes</td>\n",
       "    </tr>\n",
       "    <tr>\n",
       "      <th>2</th>\n",
       "      <td>Rainy</td>\n",
       "      <td>Cold</td>\n",
       "      <td>High</td>\n",
       "      <td>Strong</td>\n",
       "      <td>Warm</td>\n",
       "      <td>Change</td>\n",
       "      <td>No</td>\n",
       "    </tr>\n",
       "    <tr>\n",
       "      <th>3</th>\n",
       "      <td>Sunny</td>\n",
       "      <td>Warm</td>\n",
       "      <td>High</td>\n",
       "      <td>Strong</td>\n",
       "      <td>Cool</td>\n",
       "      <td>Change</td>\n",
       "      <td>Yes</td>\n",
       "    </tr>\n",
       "  </tbody>\n",
       "</table>\n",
       "</div>"
      ],
      "text/plain": [
       "     Sky AirTemp Humidity    Wind Water Forecast EnjoySport\n",
       "0  Sunny    Warm   Normal  Strong  Warm     Same        Yes\n",
       "1  Sunny    Warm     High  Strong  Warm     Same        Yes\n",
       "2  Rainy    Cold     High  Strong  Warm   Change         No\n",
       "3  Sunny    Warm     High  Strong  Cool   Change        Yes"
      ]
     },
     "metadata": {},
     "output_type": "display_data"
    }
   ],
   "source": [
    "data = pd.read_csv(\"EnjoySport.csv\")\n",
    "\n",
    "display(data)"
   ]
  },
  {
   "cell_type": "code",
   "execution_count": 4,
   "id": "dc975f73-334f-4322-8839-0cc602f15fcb",
   "metadata": {},
   "outputs": [
    {
     "name": "stdout",
     "output_type": "stream",
     "text": [
      "Concepts:\n",
      "[['Sunny' 'Warm' 'Normal' 'Strong' 'Warm' 'Same']\n",
      " ['Sunny' 'Warm' 'High' 'Strong' 'Warm' 'Same']\n",
      " ['Rainy' 'Cold' 'High' 'Strong' 'Warm' 'Change']\n",
      " ['Sunny' 'Warm' 'High' 'Strong' 'Cool' 'Change']]\n",
      "\n",
      "Targets:\n",
      "['Yes' 'Yes' 'No' 'Yes']\n",
      "\n"
     ]
    }
   ],
   "source": [
    "concepts = np.array(data.iloc[:,:-1])\n",
    "targets = np.array(data.iloc[:,-1])\n",
    "\n",
    "print(f\"Concepts:\\n{concepts}\\n\")\n",
    "print(f\"Targets:\\n{targets}\\n\")"
   ]
  },
  {
   "cell_type": "code",
   "execution_count": 5,
   "id": "4d550cf0-e921-4d3a-b514-d403d19f07b7",
   "metadata": {},
   "outputs": [],
   "source": [
    "def train(concepts, targets):\n",
    "    specific_hypothesis = [\"Φ\"] * concepts.shape[1]\n",
    "    general_hypothesis = [[\"?\"] * concepts.shape[1]] * concepts.shape[1]\n",
    "    \n",
    "    print(f\"Initial Specific Hypothesis:\\n{np.array(specific_hypothesis)}\\n\")\n",
    "    print(f\"Initial General Hypothesis:\\n{np.array(general_hypothesis)}\\n\")\n",
    "\n",
    "    specific_hypothesis = concepts[0].copy()\n",
    "    general_hypothesis = [[\"?\" for i in range(concepts.shape[1])] for j in range(concepts.shape[1])]\n",
    "    \n",
    "    for index, concept in enumerate(concepts):\n",
    "        if targets[index] == \"Yes\":\n",
    "            for i in range(len(specific_hypothesis)):\n",
    "                if concept[i] != specific_hypothesis[i]:\n",
    "                    specific_hypothesis[i] = \"?\"\n",
    "                    general_hypothesis[i][i] = \"?\"\n",
    "\n",
    "        elif targets[index] == \"No\":\n",
    "            for i in range(len(specific_hypothesis)):\n",
    "                if concept[i] != specific_hypothesis[i]:\n",
    "                    general_hypothesis[i][i] = specific_hypothesis[i]\n",
    "                else:\n",
    "                    general_hypothesis[i][i] = \"?\"\n",
    "\n",
    "    print(f\"Specific Hypothesis after all instances:\\n{np.array(specific_hypothesis)}\\n\")\n",
    "    print(f\"General Hypothesis after all instances:\\n{np.array(general_hypothesis)}\\n\")\n",
    "\n",
    "    indices = [i for i, val in enumerate(general_hypothesis) if val == [\"?\", \"?\", \"?\", \"?\", \"?\", \"?\"]]    \n",
    "    \n",
    "    for i in indices:\n",
    "        general_hypothesis.remove([\"?\", \"?\", \"?\", \"?\", \"?\", \"?\"])\n",
    "\n",
    "    return specific_hypothesis, general_hypothesis"
   ]
  },
  {
   "cell_type": "code",
   "execution_count": 6,
   "id": "112734c6-2e61-4216-876d-b396fdf8bf9d",
   "metadata": {},
   "outputs": [
    {
     "name": "stdout",
     "output_type": "stream",
     "text": [
      "Initial Specific Hypothesis:\n",
      "['Φ' 'Φ' 'Φ' 'Φ' 'Φ' 'Φ']\n",
      "\n",
      "Initial General Hypothesis:\n",
      "[['?' '?' '?' '?' '?' '?']\n",
      " ['?' '?' '?' '?' '?' '?']\n",
      " ['?' '?' '?' '?' '?' '?']\n",
      " ['?' '?' '?' '?' '?' '?']\n",
      " ['?' '?' '?' '?' '?' '?']\n",
      " ['?' '?' '?' '?' '?' '?']]\n",
      "\n",
      "Specific Hypothesis after all instances:\n",
      "['Sunny' 'Warm' '?' 'Strong' '?' '?']\n",
      "\n",
      "General Hypothesis after all instances:\n",
      "[['Sunny' '?' '?' '?' '?' '?']\n",
      " ['?' 'Warm' '?' '?' '?' '?']\n",
      " ['?' '?' '?' '?' '?' '?']\n",
      " ['?' '?' '?' '?' '?' '?']\n",
      " ['?' '?' '?' '?' '?' '?']\n",
      " ['?' '?' '?' '?' '?' '?']]\n",
      "\n",
      "Final Specific Hypothesis:\n",
      "['Sunny' 'Warm' '?' 'Strong' '?' '?']\n",
      "\n",
      "Final General Hypothesis:\n",
      "[['Sunny' '?' '?' '?' '?' '?']\n",
      " ['?' 'Warm' '?' '?' '?' '?']]\n",
      "\n"
     ]
    }
   ],
   "source": [
    "specific_hypothesis, general_hypothesis = train(concepts, targets)\n",
    "\n",
    "print(f\"Final Specific Hypothesis:\\n{np.array(specific_hypothesis)}\\n\")\n",
    "print(f\"Final General Hypothesis:\\n{np.array(general_hypothesis)}\\n\")"
   ]
  }
 ],
 "metadata": {
  "kernelspec": {
   "display_name": "Python 3 (ipykernel)",
   "language": "python",
   "name": "python3"
  },
  "language_info": {
   "codemirror_mode": {
    "name": "ipython",
    "version": 3
   },
   "file_extension": ".py",
   "mimetype": "text/x-python",
   "name": "python",
   "nbconvert_exporter": "python",
   "pygments_lexer": "ipython3",
   "version": "3.11.4"
  }
 },
 "nbformat": 4,
 "nbformat_minor": 5
}
