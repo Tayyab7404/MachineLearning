{
 "cells": [
  {
   "cell_type": "markdown",
   "id": "59d4299e-47fa-4aa8-a12b-c83232cb7c82",
   "metadata": {},
   "source": [
    "# **Neural Networks**"
   ]
  },
  {
   "attachments": {},
   "cell_type": "markdown",
   "id": "2c6eecc6-790d-4cbf-94d7-cab43e038bc9",
   "metadata": {},
   "source": [
    "<center><img src=\"graphviz.svg\" width=800 height=800></center>"
   ]
  },
  {
   "cell_type": "code",
   "execution_count": 32,
   "id": "dd02a170-1589-4f33-ba77-15983e724a55",
   "metadata": {},
   "outputs": [],
   "source": [
    "import numpy as np\n",
    "import pandas as pd"
   ]
  },
  {
   "cell_type": "code",
   "execution_count": 33,
   "id": "38940c39-fff2-4796-95bc-35e1cb17548c",
   "metadata": {},
   "outputs": [
    {
     "data": {
      "text/html": [
       "<div>\n",
       "<style scoped>\n",
       "    .dataframe tbody tr th:only-of-type {\n",
       "        vertical-align: middle;\n",
       "    }\n",
       "\n",
       "    .dataframe tbody tr th {\n",
       "        vertical-align: top;\n",
       "    }\n",
       "\n",
       "    .dataframe thead th {\n",
       "        text-align: right;\n",
       "    }\n",
       "</style>\n",
       "<table border=\"1\" class=\"dataframe\">\n",
       "  <thead>\n",
       "    <tr style=\"text-align: right;\">\n",
       "      <th></th>\n",
       "      <th>x</th>\n",
       "      <th>y</th>\n",
       "      <th>target</th>\n",
       "    </tr>\n",
       "  </thead>\n",
       "  <tbody>\n",
       "    <tr>\n",
       "      <th>0</th>\n",
       "      <td>2</td>\n",
       "      <td>9</td>\n",
       "      <td>92</td>\n",
       "    </tr>\n",
       "    <tr>\n",
       "      <th>1</th>\n",
       "      <td>1</td>\n",
       "      <td>5</td>\n",
       "      <td>86</td>\n",
       "    </tr>\n",
       "    <tr>\n",
       "      <th>2</th>\n",
       "      <td>3</td>\n",
       "      <td>6</td>\n",
       "      <td>89</td>\n",
       "    </tr>\n",
       "  </tbody>\n",
       "</table>\n",
       "</div>"
      ],
      "text/plain": [
       "   x  y  target\n",
       "0  2  9      92\n",
       "1  1  5      86\n",
       "2  3  6      89"
      ]
     },
     "metadata": {},
     "output_type": "display_data"
    }
   ],
   "source": [
    "data = pd.read_csv(\"NeuralNetworks.csv\")\n",
    "\n",
    "display(data)"
   ]
  },
  {
   "cell_type": "code",
   "execution_count": 62,
   "id": "a37cf267-7ec4-4382-aabb-97ff7825191e",
   "metadata": {},
   "outputs": [],
   "source": [
    "def NeuralNetworks(training, target, layers, weights, bias, n=0.9):\n",
    "    Normaltraining = training / np.amax(training, axis=0)\n",
    "    Normaltarget = target / 100\n",
    "\n",
    "    epochs = 5\n",
    "    print(f\"After {epochs} epochs:\\n\")\n",
    "\n",
    "    for row in range(len(Normaltraining)):\n",
    "        inputs, outputs, errors = [0]*5, [0]*5, [0]*5\n",
    "        \n",
    "        inputs[0], inputs[1] = Normaltraining[row][0], Normaltraining[row][1]\n",
    "\n",
    "        print(f\"Inputs: {training[row]}\")\n",
    "        print(f\"Normalized Inputs: {Normaltraining[row]}\")\n",
    "        print(f\"Expected normalized output: {Normaltarget[row]}\")\n",
    "\n",
    "        for epoch in range(epochs):\n",
    "            for i in layers.get(\"input\"):\n",
    "                outputs[i] = inputs[i]\n",
    "                \n",
    "            for j in layers.get(\"hidden\"):\n",
    "                inputs[j] = sum([weights.get(i).get(j) * outputs[i] for i in layers.get('input')]) + bias[j]\n",
    "                outputs[j] = 1 / (1 + np.exp(-inputs[j]))\n",
    "                \n",
    "            for j in layers.get(\"output\"):\n",
    "                inputs[j] = sum([weights.get(i).get(j) * outputs[i] for i in layers.get('hidden')]) + bias[j]\n",
    "                outputs[j] = 1 / (1 + np.exp(-inputs[j]))\n",
    "                errors[j] = outputs[j] * (1 - outputs[j]) * (Normaltarget[row] - outputs[j])\n",
    "                \n",
    "            for i in layers.get(\"hidden\"):\n",
    "                errors[i] = outputs[i] * (1 - outputs[i]) * sum([errors[j] * weights.get(i).get(j) for j in layers.get(\"output\")])\n",
    "\n",
    "            for i in weights:\n",
    "                for j in weights.get(i):\n",
    "                    dw = n * errors[j] * outputs[i]\n",
    "                    weights[i][j] += dw\n",
    "                    \n",
    "            for i in layers.get('output') + layers.get('hidden'):\n",
    "                db = n * errors[i]\n",
    "                bias[i] += db\n",
    "\n",
    "        print(f\"Ouput: {outputs[-1]}\\n\")"
   ]
  },
  {
   "cell_type": "code",
   "execution_count": 69,
   "id": "c9130321-4120-48a6-acd2-a53dd0c38fde",
   "metadata": {},
   "outputs": [
    {
     "name": "stdout",
     "output_type": "stream",
     "text": [
      "Weights:\n",
      "0 : {2: 0.16188134508225693, 3: 0.7967008449434325}\n",
      "1 : {2: -0.3172367894445691, 3: 0.4671213374591803}\n",
      "2 : {4: -0.6669901514501249}\n",
      "3 : {4: 0.602816379574832}\n",
      "\n",
      "Bias:\n",
      "[ 0.45763774  0.91048673 -0.38556337 -0.35277621  0.75509147]\n",
      "\n",
      "After 5 epochs:\n",
      "\n",
      "Inputs: [2 9]\n",
      "Normalized Inputs: [0.66666667 1.        ]\n",
      "Expected normalized output: 0.92\n",
      "Ouput: 0.7588297076833305\n",
      "\n",
      "Inputs: [1 5]\n",
      "Normalized Inputs: [0.33333333 0.55555556]\n",
      "Expected normalized output: 0.86\n",
      "Ouput: 0.7693542866988109\n",
      "\n",
      "Inputs: [3 6]\n",
      "Normalized Inputs: [1.         0.66666667]\n",
      "Expected normalized output: 0.89\n",
      "Ouput: 0.8063284416155982\n",
      "\n"
     ]
    }
   ],
   "source": [
    "training = data[[\"x\", \"y\"]].to_numpy()\n",
    "target = data[\"target\"].to_numpy()\n",
    "\n",
    "layers = {\"input\":[0,1], \"hidden\":[2,3], \"output\":[4]}\n",
    "\n",
    "weights = {}\n",
    "for i in layers.get(\"input\"):\n",
    "    d = {}\n",
    "    for j in layers.get(\"hidden\"):\n",
    "        d[j] = np.random.uniform(-1, 1)\n",
    "    weights[i] = d\n",
    "for i in layers.get(\"hidden\"):\n",
    "    d = {}\n",
    "    for j in layers.get(\"output\"):\n",
    "        d[j] = np.random.uniform(-1, 1)\n",
    "    weights[i] = d\n",
    "\n",
    "print(\"Weights:\")\n",
    "for i, j in weights.items():\n",
    "    print(f\"{i} : {j}\")\n",
    "print()    \n",
    "\n",
    "bias = np.random.uniform(low=-1, high=1, size=(5,))\n",
    "\n",
    "print(\"Bias:\")\n",
    "print(bias, end=\"\\n\\n\")\n",
    "\n",
    "NeuralNetworks(training, target, layers, weights, bias, n=0.95)"
   ]
  }
 ],
 "metadata": {
  "kernelspec": {
   "display_name": "Python 3 (ipykernel)",
   "language": "python",
   "name": "python3"
  },
  "language_info": {
   "codemirror_mode": {
    "name": "ipython",
    "version": 3
   },
   "file_extension": ".py",
   "mimetype": "text/x-python",
   "name": "python",
   "nbconvert_exporter": "python",
   "pygments_lexer": "ipython3",
   "version": "3.11.4"
  }
 },
 "nbformat": 4,
 "nbformat_minor": 5
}
