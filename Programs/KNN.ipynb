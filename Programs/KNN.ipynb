{
 "cells": [
  {
   "cell_type": "markdown",
   "id": "a1dd6b39-3d4c-476d-8014-db74422c8103",
   "metadata": {},
   "source": [
    "# **K Nearest Neighbor**"
   ]
  },
  {
   "cell_type": "code",
   "execution_count": 2,
   "id": "05ccb0f6-2da3-47ba-b6cf-863d44795945",
   "metadata": {},
   "outputs": [],
   "source": [
    "import numpy as np\n",
    "import pandas as pd\n",
    "from sklearn.model_selection import train_test_split\n",
    "from sklearn.metrics import classification_report\n",
    "from sklearn import datasets\n",
    "from collections import Counter"
   ]
  },
  {
   "cell_type": "code",
   "execution_count": 3,
   "id": "d8b645ae-0313-424b-a880-b05ff70b7e7a",
   "metadata": {},
   "outputs": [],
   "source": [
    "iris = datasets.load_iris()\n",
    "\n",
    "X_train, X_test, Y_train, Y_test = train_test_split(iris.data, iris.target, test_size=0.1)\n",
    "\n",
    "k = 7\n",
    "\n",
    "y_predicted = []\n",
    "\n",
    "for test in X_test:\n",
    "    distances = np.array([])\n",
    "    for train in X_train:\n",
    "        value = np.sqrt(sum([(test[i] - train[i]) ** 2 for i in range(train.shape[0])]))\n",
    "        distances = np.append(distances, [value])\n",
    "    nearest_indices = np.argsort(distances)[:k]\n",
    "    nearest_labels = Y_train[nearest_indices]\n",
    "    counter = Counter(nearest_labels)\n",
    "    most_common_label = counter.most_common(1)[0][0]\n",
    "    y_predicted.append(most_common_label)"
   ]
  },
  {
   "cell_type": "code",
   "execution_count": 4,
   "id": "fa381ecb-645b-4820-a0c1-b608fc4c6379",
   "metadata": {},
   "outputs": [
    {
     "name": "stdout",
     "output_type": "stream",
     "text": [
      "Sample: [6.  3.4 4.5 1.6], Actual Label: 1, Predicted Label: 1\n",
      "Sample: [5.9 3.  5.1 1.8], Actual Label: 2, Predicted Label: 2\n",
      "Sample: [5.5 2.4 3.8 1.1], Actual Label: 1, Predicted Label: 1\n",
      "Sample: [7.3 2.9 6.3 1.8], Actual Label: 2, Predicted Label: 2\n",
      "Sample: [5.7 4.4 1.5 0.4], Actual Label: 0, Predicted Label: 0\n",
      "Sample: [6.2 2.9 4.3 1.3], Actual Label: 1, Predicted Label: 1\n",
      "Sample: [4.4 2.9 1.4 0.2], Actual Label: 0, Predicted Label: 0\n",
      "Sample: [4.8 3.  1.4 0.3], Actual Label: 0, Predicted Label: 0\n",
      "Sample: [6.7 3.  5.2 2.3], Actual Label: 2, Predicted Label: 2\n",
      "Sample: [4.5 2.3 1.3 0.3], Actual Label: 0, Predicted Label: 0\n",
      "Sample: [6.4 2.9 4.3 1.3], Actual Label: 1, Predicted Label: 1\n",
      "Sample: [5.1 2.5 3.  1.1], Actual Label: 1, Predicted Label: 1\n",
      "Sample: [6.1 3.  4.6 1.4], Actual Label: 1, Predicted Label: 1\n",
      "Sample: [5.3 3.7 1.5 0.2], Actual Label: 0, Predicted Label: 0\n",
      "Sample: [5.  3.  1.6 0.2], Actual Label: 0, Predicted Label: 0\n",
      "\n",
      "15 number of correct classifications out of 15\n",
      "\n",
      "Confusion Matrix:\n",
      "   0  1  2\n",
      "0  6  0  0\n",
      "1  0  6  0\n",
      "2  0  0  3\n",
      "\n",
      "              precision    recall  f1-score   support\n",
      "\n",
      "           0       1.00      1.00      1.00         6\n",
      "           1       1.00      1.00      1.00         6\n",
      "           2       1.00      1.00      1.00         3\n",
      "\n",
      "    accuracy                           1.00        15\n",
      "   macro avg       1.00      1.00      1.00        15\n",
      "weighted avg       1.00      1.00      1.00        15\n",
      "\n"
     ]
    }
   ],
   "source": [
    "confusion_matrix = pd.DataFrame([[0, 0, 0],[0, 0, 0], [0, 0, 0]], columns=[0, 1, 2], index=[0, 1, 2])\n",
    "correct = 0\n",
    "\n",
    "for i in range(Y_test.shape[0]):\n",
    "    print(f\"Sample: {X_test[i]}, Actual Label: {Y_test[i]}, Predicted Label: {y_predicted[i]}\")\n",
    "    if Y_test[i] == y_predicted[i]: correct += 1\n",
    "    confusion_matrix.iloc[Y_test[i], y_predicted[i]] += 1\n",
    "\n",
    "print(f\"\\n{correct} number of correct classifications out of {len(y_predicted)}\\n\")\n",
    "print(f\"Confusion Matrix:\\n{confusion_matrix}\")\n",
    "print()\n",
    "print(classification_report(Y_test, y_predicted))"
   ]
  }
 ],
 "metadata": {
  "kernelspec": {
   "display_name": "Python 3 (ipykernel)",
   "language": "python",
   "name": "python3"
  },
  "language_info": {
   "codemirror_mode": {
    "name": "ipython",
    "version": 3
   },
   "file_extension": ".py",
   "mimetype": "text/x-python",
   "name": "python",
   "nbconvert_exporter": "python",
   "pygments_lexer": "ipython3",
   "version": "3.11.4"
  }
 },
 "nbformat": 4,
 "nbformat_minor": 5
}
