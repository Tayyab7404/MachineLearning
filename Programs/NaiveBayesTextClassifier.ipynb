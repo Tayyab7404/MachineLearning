{
 "cells": [
  {
   "cell_type": "markdown",
   "id": "ac4349f8-fa06-4120-b023-4d154dd91f24",
   "metadata": {
    "id": "ac4349f8-fa06-4120-b023-4d154dd91f24"
   },
   "source": [
    "# **Naive Bayes Text Classifier**"
   ]
  },
  {
   "cell_type": "code",
   "execution_count": 3,
   "id": "efe22902-7f5d-4313-b8da-2a4f12869f2e",
   "metadata": {
    "id": "efe22902-7f5d-4313-b8da-2a4f12869f2e"
   },
   "outputs": [],
   "source": [
    "import pandas as pd\n",
    "from sklearn.model_selection import train_test_split"
   ]
  },
  {
   "cell_type": "code",
   "execution_count": 4,
   "id": "bef0134c-9ddd-4196-bb76-96a9e91c5b46",
   "metadata": {
    "colab": {
     "base_uri": "https://localhost:8080/",
     "height": 614
    },
    "executionInfo": {
     "elapsed": 415,
     "status": "ok",
     "timestamp": 1711182418745,
     "user": {
      "displayName": "Tayyab Tavvagunta",
      "userId": "05736559268130400023"
     },
     "user_tz": -330
    },
    "id": "bef0134c-9ddd-4196-bb76-96a9e91c5b46",
    "outputId": "3ee83b40-e8b9-4fce-d53d-2205f0c411fa"
   },
   "outputs": [
    {
     "data": {
      "text/html": [
       "<div>\n",
       "<style scoped>\n",
       "    .dataframe tbody tr th:only-of-type {\n",
       "        vertical-align: middle;\n",
       "    }\n",
       "\n",
       "    .dataframe tbody tr th {\n",
       "        vertical-align: top;\n",
       "    }\n",
       "\n",
       "    .dataframe thead th {\n",
       "        text-align: right;\n",
       "    }\n",
       "</style>\n",
       "<table border=\"1\" class=\"dataframe\">\n",
       "  <thead>\n",
       "    <tr style=\"text-align: right;\">\n",
       "      <th></th>\n",
       "      <th>Text</th>\n",
       "      <th>Class</th>\n",
       "    </tr>\n",
       "  </thead>\n",
       "  <tbody>\n",
       "    <tr>\n",
       "      <th>0</th>\n",
       "      <td>I love this sandwich</td>\n",
       "      <td>pos</td>\n",
       "    </tr>\n",
       "    <tr>\n",
       "      <th>1</th>\n",
       "      <td>this is an amazing place</td>\n",
       "      <td>pos</td>\n",
       "    </tr>\n",
       "    <tr>\n",
       "      <th>2</th>\n",
       "      <td>I feel very good about these beers</td>\n",
       "      <td>pos</td>\n",
       "    </tr>\n",
       "    <tr>\n",
       "      <th>3</th>\n",
       "      <td>this is my best work</td>\n",
       "      <td>pos</td>\n",
       "    </tr>\n",
       "    <tr>\n",
       "      <th>4</th>\n",
       "      <td>what an awesome view</td>\n",
       "      <td>pos</td>\n",
       "    </tr>\n",
       "    <tr>\n",
       "      <th>5</th>\n",
       "      <td>I do not like this restaurant</td>\n",
       "      <td>neg</td>\n",
       "    </tr>\n",
       "    <tr>\n",
       "      <th>6</th>\n",
       "      <td>I am tired of this stuff</td>\n",
       "      <td>neg</td>\n",
       "    </tr>\n",
       "    <tr>\n",
       "      <th>7</th>\n",
       "      <td>I can't deal with this</td>\n",
       "      <td>neg</td>\n",
       "    </tr>\n",
       "    <tr>\n",
       "      <th>8</th>\n",
       "      <td>he is my sworn enemy</td>\n",
       "      <td>neg</td>\n",
       "    </tr>\n",
       "    <tr>\n",
       "      <th>9</th>\n",
       "      <td>my boss is horrible</td>\n",
       "      <td>neg</td>\n",
       "    </tr>\n",
       "    <tr>\n",
       "      <th>10</th>\n",
       "      <td>this is an awesome place</td>\n",
       "      <td>pos</td>\n",
       "    </tr>\n",
       "    <tr>\n",
       "      <th>11</th>\n",
       "      <td>I donot like the taste of this juice</td>\n",
       "      <td>neg</td>\n",
       "    </tr>\n",
       "    <tr>\n",
       "      <th>12</th>\n",
       "      <td>I love to dance</td>\n",
       "      <td>pos</td>\n",
       "    </tr>\n",
       "    <tr>\n",
       "      <th>13</th>\n",
       "      <td>I am sick and tired of this place</td>\n",
       "      <td>neg</td>\n",
       "    </tr>\n",
       "    <tr>\n",
       "      <th>14</th>\n",
       "      <td>what a great holiday</td>\n",
       "      <td>pos</td>\n",
       "    </tr>\n",
       "    <tr>\n",
       "      <th>15</th>\n",
       "      <td>that is a bad locality to stay</td>\n",
       "      <td>neg</td>\n",
       "    </tr>\n",
       "    <tr>\n",
       "      <th>16</th>\n",
       "      <td>we will have good fun tomorrow</td>\n",
       "      <td>pos</td>\n",
       "    </tr>\n",
       "    <tr>\n",
       "      <th>17</th>\n",
       "      <td>I went to my enemy's house today</td>\n",
       "      <td>neg</td>\n",
       "    </tr>\n",
       "  </tbody>\n",
       "</table>\n",
       "</div>"
      ],
      "text/plain": [
       "                                    Text Class\n",
       "0                   I love this sandwich   pos\n",
       "1               this is an amazing place   pos\n",
       "2     I feel very good about these beers   pos\n",
       "3                   this is my best work   pos\n",
       "4                   what an awesome view   pos\n",
       "5          I do not like this restaurant   neg\n",
       "6               I am tired of this stuff   neg\n",
       "7                 I can't deal with this   neg\n",
       "8                   he is my sworn enemy   neg\n",
       "9                    my boss is horrible   neg\n",
       "10              this is an awesome place   pos\n",
       "11  I donot like the taste of this juice   neg\n",
       "12                       I love to dance   pos\n",
       "13     I am sick and tired of this place   neg\n",
       "14                  what a great holiday   pos\n",
       "15        that is a bad locality to stay   neg\n",
       "16        we will have good fun tomorrow   pos\n",
       "17      I went to my enemy's house today   neg"
      ]
     },
     "metadata": {},
     "output_type": "display_data"
    }
   ],
   "source": [
    "data = pd.read_csv(\"TextClassification.csv\")\n",
    "\n",
    "display(data)"
   ]
  },
  {
   "cell_type": "code",
   "execution_count": 5,
   "id": "b0fa3262-837b-4da2-91b0-9456d3f15f15",
   "metadata": {
    "id": "b0fa3262-837b-4da2-91b0-9456d3f15f15"
   },
   "outputs": [],
   "source": [
    "X, Y = data[\"Text\"], data[\"Class\"]\n",
    "\n",
    "X_train, X_test, Y_train, Y_test = train_test_split(X, Y, shuffle=False)"
   ]
  },
  {
   "cell_type": "code",
   "execution_count": 6,
   "id": "de68cf0f-d875-4064-acdf-b0060ec01986",
   "metadata": {
    "id": "de68cf0f-d875-4064-acdf-b0060ec01986"
   },
   "outputs": [],
   "source": [
    "Vocabulary = []\n",
    "\n",
    "for i in X_train:\n",
    "    Vocabulary += i.lower().split()\n",
    "\n",
    "Vocabulary.sort()"
   ]
  },
  {
   "cell_type": "code",
   "execution_count": 7,
   "id": "1b941981-c58d-461d-aa7f-90dd21219dd7",
   "metadata": {
    "id": "1b941981-c58d-461d-aa7f-90dd21219dd7"
   },
   "outputs": [],
   "source": [
    "PositiveProbability = Y_train[Y_train == \"pos\"].count() / Y_train.count()\n",
    "NegativeProbability = Y_train[Y_train == \"neg\"].count() / Y_train.count()"
   ]
  },
  {
   "cell_type": "code",
   "execution_count": 8,
   "id": "6cc8d21e-ce0a-4939-8fbc-7262137f0515",
   "metadata": {
    "id": "6cc8d21e-ce0a-4939-8fbc-7262137f0515"
   },
   "outputs": [],
   "source": [
    "PositiveText = []\n",
    "for text in X_train[Y_train == \"pos\"]:\n",
    "    PositiveText += text.lower().split()\n",
    "PositiveText.sort()\n",
    "PositiveCount = len(set(PositiveText))\n",
    "\n",
    "NegativeText = []\n",
    "for text in X_train[Y_train == \"neg\"]:\n",
    "    NegativeText += text.lower().split()\n",
    "NegativeText.sort()\n",
    "NegativeCount = len(set(NegativeText))"
   ]
  },
  {
   "cell_type": "code",
   "execution_count": 9,
   "id": "40e643e0-1d41-42a0-a114-e361dc165743",
   "metadata": {
    "id": "40e643e0-1d41-42a0-a114-e361dc165743"
   },
   "outputs": [],
   "source": [
    "WordProbability = {}\n",
    "\n",
    "for word in Vocabulary:\n",
    "    positive = (PositiveText.count(word) + 1) / (PositiveCount + len(Vocabulary))\n",
    "    negative = (NegativeText.count(word) + 1) / (NegativeCount + len(Vocabulary))\n",
    "\n",
    "    WordProbability[word] = [positive, negative]"
   ]
  },
  {
   "cell_type": "code",
   "execution_count": 25,
   "id": "29147599-ca22-480f-90bc-6fe73d93a364",
   "metadata": {
    "id": "29147599-ca22-480f-90bc-6fe73d93a364"
   },
   "outputs": [
    {
     "name": "stdout",
     "output_type": "stream",
     "text": [
      "For test hypothesis: I am sick and tired of this place\n",
      "Prediction: neg\n",
      "Actual value: neg\n",
      "\n",
      "For test hypothesis: what a great holiday\n",
      "Prediction: pos\n",
      "Actual value: pos\n",
      "\n",
      "For test hypothesis: that is a bad locality to stay\n",
      "Prediction: pos\n",
      "Actual value: neg\n",
      "\n",
      "For test hypothesis: we will have good fun tomorrow\n",
      "Prediction: pos\n",
      "Actual value: pos\n",
      "\n",
      "For test hypothesis: I went to my enemy's house today\n",
      "Prediction: pos\n",
      "Actual value: neg\n",
      "\n"
     ]
    }
   ],
   "source": [
    "estimation = []\n",
    "\n",
    "for row in range(X_test.shape[0]):\n",
    "    rowPositive = PositiveProbability\n",
    "    rowNegative = NegativeProbability\n",
    "\n",
    "    for word in X_test.iloc[row].lower().split():\n",
    "        if word not in Vocabulary:\n",
    "            continue\n",
    "        rowPositive *= WordProbability[word][0]\n",
    "        rowNegative *= WordProbability[word][1]\n",
    "\n",
    "    estimation += [\"pos\"] if rowPositive >= rowNegative else [\"neg\"]\n",
    "\n",
    "    print(f'For test hypothesis: {X_test.iloc[row]}')\n",
    "    print(f'Prediction: {estimation[-1]}\\nActual value: {Y_test.iloc[row]}\\n')"
   ]
  },
  {
   "cell_type": "code",
   "execution_count": 26,
   "id": "d560370f-53e6-4e0e-9d23-cc3706f20abe",
   "metadata": {
    "colab": {
     "base_uri": "https://localhost:8080/",
     "height": 125
    },
    "executionInfo": {
     "elapsed": 16,
     "status": "ok",
     "timestamp": 1711182989244,
     "user": {
      "displayName": "Tayyab Tavvagunta",
      "userId": "05736559268130400023"
     },
     "user_tz": -330
    },
    "id": "d560370f-53e6-4e0e-9d23-cc3706f20abe",
    "outputId": "6989287c-8c7d-4030-d83f-6ee3b181d27d"
   },
   "outputs": [
    {
     "name": "stdout",
     "output_type": "stream",
     "text": [
      "Confusion Matrix:\n"
     ]
    },
    {
     "data": {
      "text/html": [
       "<div>\n",
       "<style scoped>\n",
       "    .dataframe tbody tr th:only-of-type {\n",
       "        vertical-align: middle;\n",
       "    }\n",
       "\n",
       "    .dataframe tbody tr th {\n",
       "        vertical-align: top;\n",
       "    }\n",
       "\n",
       "    .dataframe thead th {\n",
       "        text-align: right;\n",
       "    }\n",
       "</style>\n",
       "<table border=\"1\" class=\"dataframe\">\n",
       "  <thead>\n",
       "    <tr style=\"text-align: right;\">\n",
       "      <th></th>\n",
       "      <th>neg</th>\n",
       "      <th>pos</th>\n",
       "    </tr>\n",
       "  </thead>\n",
       "  <tbody>\n",
       "    <tr>\n",
       "      <th>neg</th>\n",
       "      <td>1</td>\n",
       "      <td>2</td>\n",
       "    </tr>\n",
       "    <tr>\n",
       "      <th>pos</th>\n",
       "      <td>0</td>\n",
       "      <td>2</td>\n",
       "    </tr>\n",
       "  </tbody>\n",
       "</table>\n",
       "</div>"
      ],
      "text/plain": [
       "     neg  pos\n",
       "neg    1    2\n",
       "pos    0    2"
      ]
     },
     "metadata": {},
     "output_type": "display_data"
    }
   ],
   "source": [
    "confusion_matrix = pd.DataFrame([[0, 0], [0, 0]],\n",
    "                                columns=['neg','pos'],\n",
    "                                index=['neg', 'pos'])\n",
    "\n",
    "for i in range(Y_test.shape[0]):\n",
    "    confusion_matrix.loc[Y_test.iloc[i], estimation[i]] += 1\n",
    "\n",
    "print(\"Confusion Matrix:\")\n",
    "display(confusion_matrix)"
   ]
  },
  {
   "cell_type": "code",
   "execution_count": 27,
   "id": "1faa950b-6349-4b84-ab71-8d2fafde62fe",
   "metadata": {
    "colab": {
     "base_uri": "https://localhost:8080/"
    },
    "executionInfo": {
     "elapsed": 367,
     "status": "ok",
     "timestamp": 1711183029808,
     "user": {
      "displayName": "Tayyab Tavvagunta",
      "userId": "05736559268130400023"
     },
     "user_tz": -330
    },
    "id": "1faa950b-6349-4b84-ab71-8d2fafde62fe",
    "outputId": "851fbcd6-51b7-4134-b5ba-de0c71b51216"
   },
   "outputs": [
    {
     "name": "stdout",
     "output_type": "stream",
     "text": [
      "Precision: 0.5\n",
      "Recall: 0.5\n",
      "Accuracy: 0.6\n",
      "F1 Score: 0.5\n"
     ]
    }
   ],
   "source": [
    "tn, fp, fn, tp = confusion_matrix.loc['neg', 'neg'],\\\n",
    "                 confusion_matrix.loc['neg', 'pos'],\\\n",
    "                 confusion_matrix.loc['pos', 'neg'],\\\n",
    "                 confusion_matrix.loc['pos', 'pos']\n",
    "\n",
    "precision = tp / (tp + fp)\n",
    "recall = tn / (tp + fn)\n",
    "accuracy = (tp + tn) / (tp + tn + fp + fn)\n",
    "f1score = (2 * precision * recall) / (precision + recall)\n",
    "\n",
    "print(f\"Precision: {precision}\")\n",
    "print(f\"Recall: {recall}\")\n",
    "print(f\"Accuracy: {accuracy}\")\n",
    "print(f\"F1 Score: {f1score}\")"
   ]
  }
 ],
 "metadata": {
  "colab": {
   "provenance": []
  },
  "kernelspec": {
   "display_name": "Python 3 (ipykernel)",
   "language": "python",
   "name": "python3"
  },
  "language_info": {
   "codemirror_mode": {
    "name": "ipython",
    "version": 3
   },
   "file_extension": ".py",
   "mimetype": "text/x-python",
   "name": "python",
   "nbconvert_exporter": "python",
   "pygments_lexer": "ipython3",
   "version": "3.12.2"
  }
 },
 "nbformat": 4,
 "nbformat_minor": 5
}
