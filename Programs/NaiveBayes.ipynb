{
 "cells": [
  {
   "cell_type": "markdown",
   "id": "2bebb0b2-27f0-431c-be3a-ddbcffce3678",
   "metadata": {
    "id": "2bebb0b2-27f0-431c-be3a-ddbcffce3678"
   },
   "source": [
    "# **Naive Bayes Classifier**"
   ]
  },
  {
   "cell_type": "code",
   "execution_count": 1,
   "id": "8a9efb84-f329-4cf8-bca6-8ca7cd2eb5b1",
   "metadata": {
    "id": "8a9efb84-f329-4cf8-bca6-8ca7cd2eb5b1"
   },
   "outputs": [],
   "source": [
    "import pandas as pd\n",
    "from sklearn.model_selection import train_test_split"
   ]
  },
  {
   "cell_type": "code",
   "execution_count": 2,
   "id": "898a61e6-d56f-4d26-88f7-2d6b7ac37289",
   "metadata": {
    "colab": {
     "base_uri": "https://localhost:8080/",
     "height": 488
    },
    "executionInfo": {
     "elapsed": 859,
     "status": "ok",
     "timestamp": 1711182240156,
     "user": {
      "displayName": "Tayyab Tavvagunta",
      "userId": "05736559268130400023"
     },
     "user_tz": -330
    },
    "id": "898a61e6-d56f-4d26-88f7-2d6b7ac37289",
    "outputId": "5f27250e-2d9e-4546-927f-c7541c720f09"
   },
   "outputs": [
    {
     "data": {
      "text/html": [
       "<div>\n",
       "<style scoped>\n",
       "    .dataframe tbody tr th:only-of-type {\n",
       "        vertical-align: middle;\n",
       "    }\n",
       "\n",
       "    .dataframe tbody tr th {\n",
       "        vertical-align: top;\n",
       "    }\n",
       "\n",
       "    .dataframe thead th {\n",
       "        text-align: right;\n",
       "    }\n",
       "</style>\n",
       "<table border=\"1\" class=\"dataframe\">\n",
       "  <thead>\n",
       "    <tr style=\"text-align: right;\">\n",
       "      <th></th>\n",
       "      <th>outlook</th>\n",
       "      <th>temperature</th>\n",
       "      <th>humidity</th>\n",
       "      <th>wind</th>\n",
       "      <th>play</th>\n",
       "    </tr>\n",
       "  </thead>\n",
       "  <tbody>\n",
       "    <tr>\n",
       "      <th>0</th>\n",
       "      <td>Sunny</td>\n",
       "      <td>Hot</td>\n",
       "      <td>High</td>\n",
       "      <td>Weak</td>\n",
       "      <td>No</td>\n",
       "    </tr>\n",
       "    <tr>\n",
       "      <th>1</th>\n",
       "      <td>Sunny</td>\n",
       "      <td>Hot</td>\n",
       "      <td>High</td>\n",
       "      <td>Strong</td>\n",
       "      <td>No</td>\n",
       "    </tr>\n",
       "    <tr>\n",
       "      <th>2</th>\n",
       "      <td>Overcast</td>\n",
       "      <td>Hot</td>\n",
       "      <td>High</td>\n",
       "      <td>Weak</td>\n",
       "      <td>Yes</td>\n",
       "    </tr>\n",
       "    <tr>\n",
       "      <th>3</th>\n",
       "      <td>Rain</td>\n",
       "      <td>Mild</td>\n",
       "      <td>High</td>\n",
       "      <td>Weak</td>\n",
       "      <td>Yes</td>\n",
       "    </tr>\n",
       "    <tr>\n",
       "      <th>4</th>\n",
       "      <td>Rain</td>\n",
       "      <td>Cool</td>\n",
       "      <td>Normal</td>\n",
       "      <td>Weak</td>\n",
       "      <td>Yes</td>\n",
       "    </tr>\n",
       "    <tr>\n",
       "      <th>5</th>\n",
       "      <td>Rain</td>\n",
       "      <td>Cool</td>\n",
       "      <td>Normal</td>\n",
       "      <td>Strong</td>\n",
       "      <td>No</td>\n",
       "    </tr>\n",
       "    <tr>\n",
       "      <th>6</th>\n",
       "      <td>Overcast</td>\n",
       "      <td>Cool</td>\n",
       "      <td>Normal</td>\n",
       "      <td>Strong</td>\n",
       "      <td>Yes</td>\n",
       "    </tr>\n",
       "    <tr>\n",
       "      <th>7</th>\n",
       "      <td>Sunny</td>\n",
       "      <td>Mild</td>\n",
       "      <td>High</td>\n",
       "      <td>Weak</td>\n",
       "      <td>No</td>\n",
       "    </tr>\n",
       "    <tr>\n",
       "      <th>8</th>\n",
       "      <td>Sunny</td>\n",
       "      <td>Cool</td>\n",
       "      <td>Normal</td>\n",
       "      <td>Weak</td>\n",
       "      <td>Yes</td>\n",
       "    </tr>\n",
       "    <tr>\n",
       "      <th>9</th>\n",
       "      <td>Rain</td>\n",
       "      <td>Mild</td>\n",
       "      <td>Normal</td>\n",
       "      <td>Weak</td>\n",
       "      <td>Yes</td>\n",
       "    </tr>\n",
       "    <tr>\n",
       "      <th>10</th>\n",
       "      <td>Sunny</td>\n",
       "      <td>Mild</td>\n",
       "      <td>Normal</td>\n",
       "      <td>Strong</td>\n",
       "      <td>Yes</td>\n",
       "    </tr>\n",
       "    <tr>\n",
       "      <th>11</th>\n",
       "      <td>Overcast</td>\n",
       "      <td>Mild</td>\n",
       "      <td>High</td>\n",
       "      <td>Strong</td>\n",
       "      <td>Yes</td>\n",
       "    </tr>\n",
       "    <tr>\n",
       "      <th>12</th>\n",
       "      <td>Overcast</td>\n",
       "      <td>Hot</td>\n",
       "      <td>Normal</td>\n",
       "      <td>Weak</td>\n",
       "      <td>Yes</td>\n",
       "    </tr>\n",
       "    <tr>\n",
       "      <th>13</th>\n",
       "      <td>Rain</td>\n",
       "      <td>Mild</td>\n",
       "      <td>High</td>\n",
       "      <td>Strong</td>\n",
       "      <td>No</td>\n",
       "    </tr>\n",
       "  </tbody>\n",
       "</table>\n",
       "</div>"
      ],
      "text/plain": [
       "     outlook temperature humidity    wind play\n",
       "0      Sunny         Hot     High    Weak   No\n",
       "1      Sunny         Hot     High  Strong   No\n",
       "2   Overcast         Hot     High    Weak  Yes\n",
       "3       Rain        Mild     High    Weak  Yes\n",
       "4       Rain        Cool   Normal    Weak  Yes\n",
       "5       Rain        Cool   Normal  Strong   No\n",
       "6   Overcast        Cool   Normal  Strong  Yes\n",
       "7      Sunny        Mild     High    Weak   No\n",
       "8      Sunny        Cool   Normal    Weak  Yes\n",
       "9       Rain        Mild   Normal    Weak  Yes\n",
       "10     Sunny        Mild   Normal  Strong  Yes\n",
       "11  Overcast        Mild     High  Strong  Yes\n",
       "12  Overcast         Hot   Normal    Weak  Yes\n",
       "13      Rain        Mild     High  Strong   No"
      ]
     },
     "metadata": {},
     "output_type": "display_data"
    }
   ],
   "source": [
    "data = pd.read_csv('PlayTennis.csv')\n",
    "\n",
    "data.drop(\"day\", axis=1, inplace=True)\n",
    "\n",
    "display(data)"
   ]
  },
  {
   "cell_type": "code",
   "execution_count": 3,
   "id": "bec7e38a-91f9-45bf-a1de-8a758c972f75",
   "metadata": {
    "id": "bec7e38a-91f9-45bf-a1de-8a758c972f75"
   },
   "outputs": [],
   "source": [
    "X = data.iloc[:, :-1]\n",
    "Y = data.iloc[:, -1]\n",
    "\n",
    "X_train, X_test, Y_train, Y_test = train_test_split(X, Y, shuffle=False)"
   ]
  },
  {
   "cell_type": "code",
   "execution_count": 4,
   "id": "9a03ea11-78c9-4fb9-adf5-d1d6cb225822",
   "metadata": {
    "id": "9a03ea11-78c9-4fb9-adf5-d1d6cb225822"
   },
   "outputs": [],
   "source": [
    "PositiveProbabilities = Y_train[Y_train == 'Yes'].count() / Y_train.count()\n",
    "NegativeProbabilities = Y_train[Y_train == 'No'].count() / Y_train.count()"
   ]
  },
  {
   "cell_type": "code",
   "execution_count": 7,
   "id": "1e516982-d03a-4052-88f0-66bb621e0c41",
   "metadata": {
    "id": "1e516982-d03a-4052-88f0-66bb621e0c41"
   },
   "outputs": [],
   "source": [
    "FeatureProbabilities = {}\n",
    "\n",
    "for col in X_train.columns:\n",
    "    d = {col: {}}\n",
    "\n",
    "    for possibility in list(X_train[col].unique()):\n",
    "        YesProbabilities = X_train.loc[(X_train[col] == possibility) & (Y_train=='Yes')][col].count() /\\\n",
    "                           Y_train[Y_train=='Yes'].count()\n",
    "        NoProbabilities = X_train.loc[(X_train[col] == possibility) & (Y_train=='No')][col].count() /\\\n",
    "                          Y_train[Y_train=='No'].count()\n",
    "\n",
    "        d[col].update({possibility: [YesProbabilities, NoProbabilities]})\n",
    "\n",
    "    FeatureProbabilities.update(d)"
   ]
  },
  {
   "cell_type": "code",
   "execution_count": 8,
   "id": "ccf7867a-ec81-4550-8ba7-ed77788fef0c",
   "metadata": {
    "colab": {
     "base_uri": "https://localhost:8080/"
    },
    "executionInfo": {
     "elapsed": 373,
     "status": "ok",
     "timestamp": 1711182290236,
     "user": {
      "displayName": "Tayyab Tavvagunta",
      "userId": "05736559268130400023"
     },
     "user_tz": -330
    },
    "id": "ccf7867a-ec81-4550-8ba7-ed77788fef0c",
    "outputId": "554f88fb-495a-43bf-c162-a1781dfb4c1d"
   },
   "outputs": [
    {
     "name": "stdout",
     "output_type": "stream",
     "text": [
      "For test hypothesis: ['Sunny', 'Mild', 'Normal', 'Strong']\n",
      "Prediction: No\n",
      "Actual value: Yes\n",
      "\n",
      "For test hypothesis: ['Overcast', 'Mild', 'High', 'Strong']\n",
      "Prediction: Yes\n",
      "Actual value: Yes\n",
      "\n",
      "For test hypothesis: ['Overcast', 'Hot', 'Normal', 'Weak']\n",
      "Prediction: Yes\n",
      "Actual value: Yes\n",
      "\n",
      "For test hypothesis: ['Rain', 'Mild', 'High', 'Strong']\n",
      "Prediction: No\n",
      "Actual value: No\n",
      "\n"
     ]
    }
   ],
   "source": [
    "predictions = []\n",
    "\n",
    "for i in range(X_test.shape[0]):\n",
    "    predictYes = PositiveProbabilities\n",
    "    predictNo = NegativeProbabilities\n",
    "\n",
    "    for j in X_test.columns:\n",
    "        predictYes *= FeatureProbabilities[j][X_test.iloc[i][j]][0]\n",
    "        predictNo *= FeatureProbabilities[j][X_test.iloc[i][j]][1]\n",
    "\n",
    "    predictions.append('Yes' if predictYes > predictNo else 'No')\n",
    "\n",
    "    print(f'For test hypothesis: {list(X_test.iloc[i])}')\n",
    "    print(f'Prediction: {predictions[-1]}\\nActual value: {Y_test.iloc[i]}\\n')"
   ]
  },
  {
   "cell_type": "code",
   "execution_count": 9,
   "id": "ee74595f-7dd6-4c4f-8244-c4c526019535",
   "metadata": {
    "colab": {
     "base_uri": "https://localhost:8080/",
     "height": 125
    },
    "executionInfo": {
     "elapsed": 380,
     "status": "ok",
     "timestamp": 1711182295743,
     "user": {
      "displayName": "Tayyab Tavvagunta",
      "userId": "05736559268130400023"
     },
     "user_tz": -330
    },
    "id": "ee74595f-7dd6-4c4f-8244-c4c526019535",
    "outputId": "abf7cfdc-69bd-4d8c-b7b0-c39c58a9cdda"
   },
   "outputs": [
    {
     "name": "stdout",
     "output_type": "stream",
     "text": [
      "Confusion Matrix:\n"
     ]
    },
    {
     "data": {
      "text/html": [
       "<div>\n",
       "<style scoped>\n",
       "    .dataframe tbody tr th:only-of-type {\n",
       "        vertical-align: middle;\n",
       "    }\n",
       "\n",
       "    .dataframe tbody tr th {\n",
       "        vertical-align: top;\n",
       "    }\n",
       "\n",
       "    .dataframe thead th {\n",
       "        text-align: right;\n",
       "    }\n",
       "</style>\n",
       "<table border=\"1\" class=\"dataframe\">\n",
       "  <thead>\n",
       "    <tr style=\"text-align: right;\">\n",
       "      <th></th>\n",
       "      <th>No</th>\n",
       "      <th>Yes</th>\n",
       "    </tr>\n",
       "  </thead>\n",
       "  <tbody>\n",
       "    <tr>\n",
       "      <th>No</th>\n",
       "      <td>1</td>\n",
       "      <td>0</td>\n",
       "    </tr>\n",
       "    <tr>\n",
       "      <th>Yes</th>\n",
       "      <td>1</td>\n",
       "      <td>2</td>\n",
       "    </tr>\n",
       "  </tbody>\n",
       "</table>\n",
       "</div>"
      ],
      "text/plain": [
       "     No  Yes\n",
       "No    1    0\n",
       "Yes   1    2"
      ]
     },
     "metadata": {},
     "output_type": "display_data"
    }
   ],
   "source": [
    "confusion_matrix = pd.DataFrame([[0, 0], [0, 0]],\n",
    "                                columns=['No','Yes'],\n",
    "                                index=['No', 'Yes'])\n",
    "\n",
    "for i in range(Y_test.shape[0]):\n",
    "    confusion_matrix.loc[Y_test.iloc[i], predictions[i]] += 1\n",
    "\n",
    "print(\"Confusion Matrix:\")\n",
    "display(confusion_matrix)"
   ]
  },
  {
   "cell_type": "code",
   "execution_count": 11,
   "id": "aad1ad91-94fe-49dc-b41d-153dd81bb2d9",
   "metadata": {
    "colab": {
     "base_uri": "https://localhost:8080/"
    },
    "executionInfo": {
     "elapsed": 11,
     "status": "ok",
     "timestamp": 1711182297820,
     "user": {
      "displayName": "Tayyab Tavvagunta",
      "userId": "05736559268130400023"
     },
     "user_tz": -330
    },
    "id": "aad1ad91-94fe-49dc-b41d-153dd81bb2d9",
    "outputId": "1221db6e-a9bf-49b7-e1c8-acf89f63bbf7"
   },
   "outputs": [
    {
     "name": "stdout",
     "output_type": "stream",
     "text": [
      "Precision: 1.0\n",
      "Recall: 0.3333333333333333\n",
      "Accuracy: 0.75\n",
      "F1 Score: 0.5\n"
     ]
    }
   ],
   "source": [
    "tn, fp, fn, tp = confusion_matrix.loc['No', 'No'],\\\n",
    "                 confusion_matrix.loc['No', 'Yes'],\\\n",
    "                 confusion_matrix.loc['Yes', 'No'],\\\n",
    "                 confusion_matrix.loc['Yes', 'Yes']\n",
    "\n",
    "precision = tp / (tp + fp)\n",
    "recall = tn / (tp + fn)\n",
    "accuracy = (tp + tn) / (tp + tn + fp + fn)\n",
    "f1score = (2 * precision * recall) / (precision + recall)\n",
    "\n",
    "print(f\"Precision: {precision}\")\n",
    "print(f\"Recall: {recall}\")\n",
    "print(f\"Accuracy: {accuracy}\")\n",
    "print(f\"F1 Score: {f1score}\")"
   ]
  }
 ],
 "metadata": {
  "colab": {
   "provenance": []
  },
  "kernelspec": {
   "display_name": "Python 3 (ipykernel)",
   "language": "python",
   "name": "python3"
  },
  "language_info": {
   "codemirror_mode": {
    "name": "ipython",
    "version": 3
   },
   "file_extension": ".py",
   "mimetype": "text/x-python",
   "name": "python",
   "nbconvert_exporter": "python",
   "pygments_lexer": "ipython3",
   "version": "3.12.2"
  }
 },
 "nbformat": 4,
 "nbformat_minor": 5
}
